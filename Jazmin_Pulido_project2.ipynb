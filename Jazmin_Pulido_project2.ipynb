{
 "cells": [
  {
   "cell_type": "markdown",
   "id": "be02a957-7133-4d02-818e-fedeb3cecb05",
   "metadata": {},
   "source": [
    "# Project X -- Jazmin Pulido"
   ]
  },
  {
   "cell_type": "markdown",
   "id": "a1228853-dd19-4ab2-89e0-0394d7d72de3",
   "metadata": {},
   "source": [
    "**TA Help:** N/A\n",
    "\n",
    "- Helped with...\n",
    "    \n",
    "**Collaboration:** N/A\n",
    "    \n",
    "- Helped with..."
   ]
  },
  {
   "cell_type": "markdown",
   "id": "6180e742-8e39-4698-98ff-5b00c8cf8ea0",
   "metadata": {},
   "source": [
    "## Question 1"
   ]
  },
  {
   "cell_type": "raw",
   "id": "e9f1e902-1388-4247-9c6c-5732570d7a43",
   "metadata": {},
   "source": [
    "The results of value_counts() showing the number of athletes participating in the Olympics during each year.\n",
    "\n",
    "A plot showing the number of athletes participating in the Olympics during each year."
   ]
  },
  {
   "cell_type": "code",
   "execution_count": 54,
   "id": "49445606-d363-41b4-b479-e319a9a84c01",
   "metadata": {},
   "outputs": [],
   "source": [
    "import pandas as pd\n",
    "import matplotlib.pyplot as plt"
   ]
  },
  {
   "cell_type": "code",
   "execution_count": 55,
   "id": "79a1069f-f1f5-4bad-8a60-0007ca26d5a0",
   "metadata": {},
   "outputs": [
    {
     "data": {
      "text/plain": [
       "Year\n",
       "1992    16413\n",
       "1988    14676\n",
       "2000    13821\n",
       "1996    13780\n",
       "2016    13688\n",
       "2008    13602\n",
       "2004    13443\n",
       "2012    12920\n",
       "1972    11959\n",
       "1984    11588\n",
       "1976    10502\n",
       "1968    10479\n",
       "1964     9480\n",
       "1952     9358\n",
       "1960     9235\n",
       "1980     8937\n",
       "1948     7480\n",
       "1936     7401\n",
       "1956     6434\n",
       "1924     5693\n",
       "1928     5574\n",
       "2014     4891\n",
       "2010     4402\n",
       "2006     4382\n",
       "1920     4292\n",
       "2002     4109\n",
       "1912     4040\n",
       "1998     3605\n",
       "1932     3321\n",
       "1994     3160\n",
       "1908     3101\n",
       "1900     1936\n",
       "1906     1733\n",
       "1904     1301\n",
       "1896      380\n",
       "Name: count, dtype: int64"
      ]
     },
     "metadata": {},
     "output_type": "display_data"
    }
   ],
   "source": [
    "myDF = pd.read_csv(\"/anvil/projects/tdm/data/olympics/athlete_events.csv\")\n",
    "myDFYearCount = myDF['Year'].value_counts()\n",
    "display(myDFYearCount)"
   ]
  },
  {
   "cell_type": "code",
   "execution_count": 56,
   "id": "b6ccab30-245f-416d-af42-dbe770db0d5e",
   "metadata": {},
   "outputs": [
    {
     "data": {
      "text/plain": [
       "<BarContainer object of 35 artists>"
      ]
     },
     "execution_count": 56,
     "metadata": {},
     "output_type": "execute_result"
    },
    {
     "data": {
      "image/png": "[encoded data removed]",
      "text/plain": [
       "<Figure size 640x480 with 1 Axes>"
      ]
     },
     "metadata": {},
     "output_type": "display_data"
    }
   ],
   "source": [
    "plt.bar(myDFYearCount.index, myDFYearCount)"
   ]
  },
  {
   "cell_type": "markdown",
   "id": "b456e57c-4a12-464b-999a-ef2df5af80c1",
   "metadata": {},
   "source": [
    "For this quesiton, I imported the necessary libraries and read in my athlete_events.csv. I then counted the instances for each value in the year column and assigned it to the variable myDFYearCount and displayed it. I then plotted the values in myDFYearCount as a bar chart."
   ]
  },
  {
   "cell_type": "markdown",
   "id": "fc601975-35ed-4680-a4e1-0273ee3cc047",
   "metadata": {},
   "source": [
    "## Question 2"
   ]
  },
  {
   "cell_type": "markdown",
   "id": "7528ca17-b976-459b-bf68-822df899ecba",
   "metadata": {},
   "source": [
    "The value that appears in the \"NOC\" column the most times.\n",
    "\n",
    "The value that appears in the \"Name\" column the most times."
   ]
  },
  {
   "cell_type": "code",
   "execution_count": 59,
   "id": "a16336a1-1ef0-41e8-bc7c-49387db27497",
   "metadata": {},
   "outputs": [
    {
     "data": {
      "text/plain": [
       "NOC\n",
       "USA    18853\n",
       "Name: count, dtype: int64"
      ]
     },
     "metadata": {},
     "output_type": "display_data"
    }
   ],
   "source": [
    "NOCCount = myDF['NOC'].value_counts().head(1)\n",
    "display(NOCCount)"
   ]
  },
  {
   "cell_type": "markdown",
   "id": "14dc22d4-ddc3-41cc-a91a-cb0025bc0c80",
   "metadata": {},
   "source": [
    "Here I counted the instances for each value in the NOC column and assigned it to the variable NOCCount and displayed it. I used the head function to only display the top row with the highest count (USA)."
   ]
  },
  {
   "cell_type": "code",
   "execution_count": 60,
   "id": "3ca7af93-fa7c-4945-b2e1-6f6b0bd5d23b",
   "metadata": {},
   "outputs": [
    {
     "data": {
      "text/plain": [
       "Name\n",
       "Robert Tait McKenzie    58\n",
       "Name: count, dtype: int64"
      ]
     },
     "metadata": {},
     "output_type": "display_data"
    }
   ],
   "source": [
    "nameCount = myDF['Name'].value_counts().head(1)\n",
    "display(nameCount)"
   ]
  },
  {
   "cell_type": "markdown",
   "id": "664a4959-cc17-44da-b65b-ea573b415ceb",
   "metadata": {},
   "source": [
    "Here I counted the instances for each value in the Name column and assigned it to the variable nameCount and displayed it. I used the head function to only display the top row with the highest count (Robert McKenzie)."
   ]
  },
  {
   "cell_type": "markdown",
   "id": "8e586edd-ff26-4ce2-8f6b-2424b26f2929",
   "metadata": {},
   "source": [
    "## Question 3"
   ]
  },
  {
   "cell_type": "markdown",
   "id": "16fb7471-797a-4e20-9a90-775becbab7d3",
   "metadata": {},
   "source": [
    "The number of rows corresponding exactly to team \"Denmark\".\n",
    "\n",
    "The number of rows with \"Denmark\" as part of the team name.\n",
    "\n",
    "The names of the 6 teams that have \"Denmark\" included but are not exactly \"Denmark\"."
   ]
  },
  {
   "cell_type": "code",
   "execution_count": 14,
   "id": "bbe0f40d-9655-4653-9ca8-886bdb61cb91",
   "metadata": {},
   "outputs": [
    {
     "data": {
      "text/html": [
       "<div>\n",
       "<style scoped>\n",
       "    .dataframe tbody tr th:only-of-type {\n",
       "        vertical-align: middle;\n",
       "    }\n",
       "\n",
       "    .dataframe tbody tr th {\n",
       "        vertical-align: top;\n",
       "    }\n",
       "\n",
       "    .dataframe thead th {\n",
       "        text-align: right;\n",
       "    }\n",
       "</style>\n",
       "<table border=\"1\" class=\"dataframe\">\n",
       "  <thead>\n",
       "    <tr style=\"text-align: right;\">\n",
       "      <th></th>\n",
       "      <th>ID</th>\n",
       "      <th>Name</th>\n",
       "      <th>Sex</th>\n",
       "      <th>Age</th>\n",
       "      <th>Height</th>\n",
       "      <th>Weight</th>\n",
       "      <th>Team</th>\n",
       "      <th>NOC</th>\n",
       "      <th>Games</th>\n",
       "      <th>Year</th>\n",
       "      <th>Season</th>\n",
       "      <th>City</th>\n",
       "      <th>Sport</th>\n",
       "      <th>Event</th>\n",
       "      <th>Medal</th>\n",
       "    </tr>\n",
       "  </thead>\n",
       "  <tbody>\n",
       "    <tr>\n",
       "      <th>0</th>\n",
       "      <td>1</td>\n",
       "      <td>A Dijiang</td>\n",
       "      <td>M</td>\n",
       "      <td>24.0</td>\n",
       "      <td>180.0</td>\n",
       "      <td>80.0</td>\n",
       "      <td>China</td>\n",
       "      <td>CHN</td>\n",
       "      <td>1992 Summer</td>\n",
       "      <td>1992</td>\n",
       "      <td>Summer</td>\n",
       "      <td>Barcelona</td>\n",
       "      <td>Basketball</td>\n",
       "      <td>Basketball Men's Basketball</td>\n",
       "      <td>NaN</td>\n",
       "    </tr>\n",
       "    <tr>\n",
       "      <th>1</th>\n",
       "      <td>2</td>\n",
       "      <td>A Lamusi</td>\n",
       "      <td>M</td>\n",
       "      <td>23.0</td>\n",
       "      <td>170.0</td>\n",
       "      <td>60.0</td>\n",
       "      <td>China</td>\n",
       "      <td>CHN</td>\n",
       "      <td>2012 Summer</td>\n",
       "      <td>2012</td>\n",
       "      <td>Summer</td>\n",
       "      <td>London</td>\n",
       "      <td>Judo</td>\n",
       "      <td>Judo Men's Extra-Lightweight</td>\n",
       "      <td>NaN</td>\n",
       "    </tr>\n",
       "    <tr>\n",
       "      <th>2</th>\n",
       "      <td>3</td>\n",
       "      <td>Gunnar Nielsen Aaby</td>\n",
       "      <td>M</td>\n",
       "      <td>24.0</td>\n",
       "      <td>NaN</td>\n",
       "      <td>NaN</td>\n",
       "      <td>Denmark</td>\n",
       "      <td>DEN</td>\n",
       "      <td>1920 Summer</td>\n",
       "      <td>1920</td>\n",
       "      <td>Summer</td>\n",
       "      <td>Antwerpen</td>\n",
       "      <td>Football</td>\n",
       "      <td>Football Men's Football</td>\n",
       "      <td>NaN</td>\n",
       "    </tr>\n",
       "    <tr>\n",
       "      <th>3</th>\n",
       "      <td>4</td>\n",
       "      <td>Edgar Lindenau Aabye</td>\n",
       "      <td>M</td>\n",
       "      <td>34.0</td>\n",
       "      <td>NaN</td>\n",
       "      <td>NaN</td>\n",
       "      <td>Denmark/Sweden</td>\n",
       "      <td>DEN</td>\n",
       "      <td>1900 Summer</td>\n",
       "      <td>1900</td>\n",
       "      <td>Summer</td>\n",
       "      <td>Paris</td>\n",
       "      <td>Tug-Of-War</td>\n",
       "      <td>Tug-Of-War Men's Tug-Of-War</td>\n",
       "      <td>Gold</td>\n",
       "    </tr>\n",
       "    <tr>\n",
       "      <th>4</th>\n",
       "      <td>5</td>\n",
       "      <td>Christine Jacoba Aaftink</td>\n",
       "      <td>F</td>\n",
       "      <td>21.0</td>\n",
       "      <td>185.0</td>\n",
       "      <td>82.0</td>\n",
       "      <td>Netherlands</td>\n",
       "      <td>NED</td>\n",
       "      <td>1988 Winter</td>\n",
       "      <td>1988</td>\n",
       "      <td>Winter</td>\n",
       "      <td>Calgary</td>\n",
       "      <td>Speed Skating</td>\n",
       "      <td>Speed Skating Women's 500 metres</td>\n",
       "      <td>NaN</td>\n",
       "    </tr>\n",
       "  </tbody>\n",
       "</table>\n",
       "</div>"
      ],
      "text/plain": [
       "   ID                      Name Sex   Age  Height  Weight            Team  \\\n",
       "0   1                 A Dijiang   M  24.0   180.0    80.0           China   \n",
       "1   2                  A Lamusi   M  23.0   170.0    60.0           China   \n",
       "2   3       Gunnar Nielsen Aaby   M  24.0     NaN     NaN         Denmark   \n",
       "3   4      Edgar Lindenau Aabye   M  34.0     NaN     NaN  Denmark/Sweden   \n",
       "4   5  Christine Jacoba Aaftink   F  21.0   185.0    82.0     Netherlands   \n",
       "\n",
       "   NOC        Games  Year  Season       City          Sport  \\\n",
       "0  CHN  1992 Summer  1992  Summer  Barcelona     Basketball   \n",
       "1  CHN  2012 Summer  2012  Summer     London           Judo   \n",
       "2  DEN  1920 Summer  1920  Summer  Antwerpen       Football   \n",
       "3  DEN  1900 Summer  1900  Summer      Paris     Tug-Of-War   \n",
       "4  NED  1988 Winter  1988  Winter    Calgary  Speed Skating   \n",
       "\n",
       "                              Event Medal  \n",
       "0       Basketball Men's Basketball   NaN  \n",
       "1      Judo Men's Extra-Lightweight   NaN  \n",
       "2           Football Men's Football   NaN  \n",
       "3       Tug-Of-War Men's Tug-Of-War  Gold  \n",
       "4  Speed Skating Women's 500 metres   NaN  "
      ]
     },
     "execution_count": 14,
     "metadata": {},
     "output_type": "execute_result"
    }
   ],
   "source": [
    "myDF.head()"
   ]
  },
  {
   "cell_type": "code",
   "execution_count": 19,
   "id": "f7671c18-9438-49d0-81a4-0ea782e1cca4",
   "metadata": {},
   "outputs": [
    {
     "data": {
      "text/plain": [
       "3424"
      ]
     },
     "execution_count": 19,
     "metadata": {},
     "output_type": "execute_result"
    }
   ],
   "source": [
    "len(myDF[myDF[\"Team\"] == \"Denmark\"])"
   ]
  },
  {
   "cell_type": "markdown",
   "id": "bd6dbd0a-2279-468c-aa66-420c93bbc0be",
   "metadata": {},
   "source": [
    "Above, I pulled the rows with teams that are exactly Denmark using the '==' operator. I then displayed the count using len()."
   ]
  },
  {
   "cell_type": "code",
   "execution_count": 24,
   "id": "bbd8e229-6645-4af7-832a-cec2ff2d6943",
   "metadata": {},
   "outputs": [
    {
     "data": {
      "text/plain": [
       "3496"
      ]
     },
     "execution_count": 24,
     "metadata": {},
     "output_type": "execute_result"
    }
   ],
   "source": [
    "myDF[myDF['Team'].str.contains('Denmark')].shape[0]"
   ]
  },
  {
   "cell_type": "markdown",
   "id": "bf82d4d2-1aa5-4c09-a39a-437d44b3a939",
   "metadata": {},
   "source": [
    "Above, I pulled the rows with teams that contain Denmark using .str.contains(). I then displayed the count using .shape[0]."
   ]
  },
  {
   "cell_type": "code",
   "execution_count": 30,
   "id": "6f46298e-1d96-4266-849a-38f7a5c97ad3",
   "metadata": {},
   "outputs": [
    {
     "data": {
      "text/plain": [
       "Team\n",
       "Denmark-2            30\n",
       "Denmark-1            30\n",
       "Denmark/Sweden        6\n",
       "Miss Denmark 1964     2\n",
       "Denmark-3             2\n",
       "Denmark-4             2\n",
       "Name: count, dtype: int64"
      ]
     },
     "execution_count": 30,
     "metadata": {},
     "output_type": "execute_result"
    }
   ],
   "source": [
    "myDF[(myDF['Team'].str.contains('Denmark')) & (myDF['Team'] != 'Denmark')]['Team'].value_counts()"
   ]
  },
  {
   "cell_type": "markdown",
   "id": "e4a3d2bb-722a-45ec-8148-84bbfb73212e",
   "metadata": {},
   "source": [
    "Here, I used the condition that the team contains Denmark and that the team isn't exactly Denmark using the != operator. I then counted the values of each instance that satisfies both conditions and it shows that the teams above are the only ones that contain the work Denmark but aren't the \"Denmark\" team."
   ]
  },
  {
   "cell_type": "markdown",
   "id": "da22f29c-d245-4d2b-9fc1-ca14cb6087d9",
   "metadata": {},
   "source": [
    "## Question 4"
   ]
  },
  {
   "cell_type": "markdown",
   "id": "b2e742bb-878b-4055-bfa8-b7867f7ec470",
   "metadata": {},
   "source": [
    "The value that appears in the \"STATE\" column the most times.\n",
    "\n",
    "The value that appears in the \"NAME\" column the most times."
   ]
  },
  {
   "cell_type": "code",
   "execution_count": 62,
   "id": "8cffc767-d1c8-4d64-b7dc-f0d2ee8a80d1",
   "metadata": {},
   "outputs": [
    {
     "data": {
      "text/html": [
       "<div>\n",
       "<style scoped>\n",
       "    .dataframe tbody tr th:only-of-type {\n",
       "        vertical-align: middle;\n",
       "    }\n",
       "\n",
       "    .dataframe tbody tr th {\n",
       "        vertical-align: top;\n",
       "    }\n",
       "\n",
       "    .dataframe thead th {\n",
       "        text-align: right;\n",
       "    }\n",
       "</style>\n",
       "<table border=\"1\" class=\"dataframe\">\n",
       "  <thead>\n",
       "    <tr style=\"text-align: right;\">\n",
       "      <th></th>\n",
       "      <th>CMTE_ID</th>\n",
       "      <th>AMNDT_IND</th>\n",
       "      <th>RPT_TP</th>\n",
       "      <th>TRANSACTION_PGI</th>\n",
       "      <th>IMAGE_NUM</th>\n",
       "      <th>TRANSACTION_TP</th>\n",
       "      <th>ENTITY_TP</th>\n",
       "      <th>NAME</th>\n",
       "      <th>CITY</th>\n",
       "      <th>STATE</th>\n",
       "      <th>ZIP_CODE</th>\n",
       "      <th>EMPLOYER</th>\n",
       "      <th>OCCUPATION</th>\n",
       "      <th>TRANSACTION_DT</th>\n",
       "      <th>TRANSACTION_AMT</th>\n",
       "      <th>OTHER_ID</th>\n",
       "      <th>TRAN_ID</th>\n",
       "      <th>FILE_NUM</th>\n",
       "      <th>MEMO_CD</th>\n",
       "      <th>MEMO_TEXT</th>\n",
       "      <th>SUB_ID</th>\n",
       "    </tr>\n",
       "  </thead>\n",
       "  <tbody>\n",
       "    <tr>\n",
       "      <th>0</th>\n",
       "      <td>C00078279</td>\n",
       "      <td>A</td>\n",
       "      <td>M11</td>\n",
       "      <td>P</td>\n",
       "      <td>80031492155</td>\n",
       "      <td>22Y</td>\n",
       "      <td>NaN</td>\n",
       "      <td>MCKENNON, K R</td>\n",
       "      <td>MIDLAND</td>\n",
       "      <td>MI</td>\n",
       "      <td>0.0</td>\n",
       "      <td>NaN</td>\n",
       "      <td>NaN</td>\n",
       "      <td>10031979.0</td>\n",
       "      <td>400</td>\n",
       "      <td>NaN</td>\n",
       "      <td>NaN</td>\n",
       "      <td>NaN</td>\n",
       "      <td>NaN</td>\n",
       "      <td>CONTRIBUTION REF TO INDIVIDUAL</td>\n",
       "      <td>3062020110011466469</td>\n",
       "    </tr>\n",
       "    <tr>\n",
       "      <th>1</th>\n",
       "      <td>C00078279</td>\n",
       "      <td>A</td>\n",
       "      <td>M11</td>\n",
       "      <td>NaN</td>\n",
       "      <td>79031415137</td>\n",
       "      <td>15</td>\n",
       "      <td>NaN</td>\n",
       "      <td>OREFFICE, P</td>\n",
       "      <td>MIDLAND</td>\n",
       "      <td>MI</td>\n",
       "      <td>0.0</td>\n",
       "      <td>DOW CHEMICAL CO</td>\n",
       "      <td>NaN</td>\n",
       "      <td>10261979.0</td>\n",
       "      <td>1500</td>\n",
       "      <td>NaN</td>\n",
       "      <td>NaN</td>\n",
       "      <td>NaN</td>\n",
       "      <td>NaN</td>\n",
       "      <td>NaN</td>\n",
       "      <td>3061920110000382948</td>\n",
       "    </tr>\n",
       "    <tr>\n",
       "      <th>2</th>\n",
       "      <td>C00078279</td>\n",
       "      <td>A</td>\n",
       "      <td>M11</td>\n",
       "      <td>NaN</td>\n",
       "      <td>79031415137</td>\n",
       "      <td>15</td>\n",
       "      <td>NaN</td>\n",
       "      <td>DOWNEY, J</td>\n",
       "      <td>MIDLAND</td>\n",
       "      <td>MI</td>\n",
       "      <td>0.0</td>\n",
       "      <td>DOW CHEMICAL CO</td>\n",
       "      <td>NaN</td>\n",
       "      <td>10261979.0</td>\n",
       "      <td>300</td>\n",
       "      <td>NaN</td>\n",
       "      <td>NaN</td>\n",
       "      <td>NaN</td>\n",
       "      <td>NaN</td>\n",
       "      <td>NaN</td>\n",
       "      <td>3061920110000382949</td>\n",
       "    </tr>\n",
       "    <tr>\n",
       "      <th>3</th>\n",
       "      <td>C00078279</td>\n",
       "      <td>A</td>\n",
       "      <td>M11</td>\n",
       "      <td>NaN</td>\n",
       "      <td>79031415137</td>\n",
       "      <td>15</td>\n",
       "      <td>NaN</td>\n",
       "      <td>BLAIR, E</td>\n",
       "      <td>MIDLAND</td>\n",
       "      <td>MI</td>\n",
       "      <td>0.0</td>\n",
       "      <td>DOW CHEMICAL CO</td>\n",
       "      <td>NaN</td>\n",
       "      <td>10261979.0</td>\n",
       "      <td>1000</td>\n",
       "      <td>NaN</td>\n",
       "      <td>NaN</td>\n",
       "      <td>NaN</td>\n",
       "      <td>NaN</td>\n",
       "      <td>NaN</td>\n",
       "      <td>3061920110000382950</td>\n",
       "    </tr>\n",
       "    <tr>\n",
       "      <th>4</th>\n",
       "      <td>C00078287</td>\n",
       "      <td>A</td>\n",
       "      <td>Q1</td>\n",
       "      <td>NaN</td>\n",
       "      <td>79031231889</td>\n",
       "      <td>15</td>\n",
       "      <td>NaN</td>\n",
       "      <td>BLANCHARD, JOHN A</td>\n",
       "      <td>CHICAGO</td>\n",
       "      <td>IL</td>\n",
       "      <td>60685.0</td>\n",
       "      <td>NaN</td>\n",
       "      <td>NaN</td>\n",
       "      <td>3201979.0</td>\n",
       "      <td>200</td>\n",
       "      <td>NaN</td>\n",
       "      <td>NaN</td>\n",
       "      <td>NaN</td>\n",
       "      <td>NaN</td>\n",
       "      <td>NaN</td>\n",
       "      <td>3061920110000383914</td>\n",
       "    </tr>\n",
       "  </tbody>\n",
       "</table>\n",
       "</div>"
      ],
      "text/plain": [
       "     CMTE_ID AMNDT_IND RPT_TP TRANSACTION_PGI    IMAGE_NUM TRANSACTION_TP  \\\n",
       "0  C00078279         A    M11               P  80031492155            22Y   \n",
       "1  C00078279         A    M11             NaN  79031415137             15   \n",
       "2  C00078279         A    M11             NaN  79031415137             15   \n",
       "3  C00078279         A    M11             NaN  79031415137             15   \n",
       "4  C00078287         A     Q1             NaN  79031231889             15   \n",
       "\n",
       "   ENTITY_TP               NAME     CITY STATE  ZIP_CODE         EMPLOYER  \\\n",
       "0        NaN      MCKENNON, K R  MIDLAND    MI       0.0              NaN   \n",
       "1        NaN        OREFFICE, P  MIDLAND    MI       0.0  DOW CHEMICAL CO   \n",
       "2        NaN          DOWNEY, J  MIDLAND    MI       0.0  DOW CHEMICAL CO   \n",
       "3        NaN           BLAIR, E  MIDLAND    MI       0.0  DOW CHEMICAL CO   \n",
       "4        NaN  BLANCHARD, JOHN A  CHICAGO    IL   60685.0              NaN   \n",
       "\n",
       "   OCCUPATION  TRANSACTION_DT  TRANSACTION_AMT OTHER_ID  TRAN_ID  FILE_NUM  \\\n",
       "0         NaN      10031979.0              400      NaN      NaN       NaN   \n",
       "1         NaN      10261979.0             1500      NaN      NaN       NaN   \n",
       "2         NaN      10261979.0              300      NaN      NaN       NaN   \n",
       "3         NaN      10261979.0             1000      NaN      NaN       NaN   \n",
       "4         NaN       3201979.0              200      NaN      NaN       NaN   \n",
       "\n",
       "   MEMO_CD                       MEMO_TEXT               SUB_ID  \n",
       "0      NaN  CONTRIBUTION REF TO INDIVIDUAL  3062020110011466469  \n",
       "1      NaN                             NaN  3061920110000382948  \n",
       "2      NaN                             NaN  3061920110000382949  \n",
       "3      NaN                             NaN  3061920110000382950  \n",
       "4      NaN                             NaN  3061920110000383914  "
      ]
     },
     "execution_count": 62,
     "metadata": {},
     "output_type": "execute_result"
    }
   ],
   "source": [
    "myDF = pd.read_csv(\"/anvil/projects/tdm/data/election/itcont1980.txt\", header=None, sep='|')\n",
    "myDF.columns = [\"CMTE_ID\", \"AMNDT_IND\", \"RPT_TP\", \"TRANSACTION_PGI\", \"IMAGE_NUM\", \"TRANSACTION_TP\", \"ENTITY_TP\", \"NAME\", \"CITY\", \"STATE\", \"ZIP_CODE\", \"EMPLOYER\", \"OCCUPATION\", \"TRANSACTION_DT\", \"TRANSACTION_AMT\", \"OTHER_ID\", \"TRAN_ID\", \"FILE_NUM\", \"MEMO_CD\", \"MEMO_TEXT\", \"SUB_ID\"]\n",
    "pd.options.display.max_columns = None\n",
    "myDF.head()"
   ]
  },
  {
   "cell_type": "markdown",
   "id": "0d552245-b4d6-474a-9cc9-fa7b8e674d55",
   "metadata": {},
   "source": [
    "I read in the itcont1980.txt file with '|' being used to deparate the different data. Then I read it in with the colummn names as above and set the display column maximum to none. I displayed the first 5 rows to get an understanding of the data."
   ]
  },
  {
   "cell_type": "code",
   "execution_count": 64,
   "id": "8394764b-2b77-41bc-a60a-72e57ab25a77",
   "metadata": {},
   "outputs": [
    {
     "data": {
      "text/plain": [
       "STATE\n",
       "CA    37069\n",
       "Name: count, dtype: int64"
      ]
     },
     "metadata": {},
     "output_type": "display_data"
    }
   ],
   "source": [
    "stateCount = myDF['STATE'].value_counts().head(1)\n",
    "display(stateCount)"
   ]
  },
  {
   "cell_type": "markdown",
   "id": "1ee00db1-b77b-43ed-b8fa-1c42f6826334",
   "metadata": {},
   "source": [
    "Here I counted the instances for each value in the STATE column and assigned it to the variable stateCount and displayed it. I used the head function to only display the top row with the highest count (CA)."
   ]
  },
  {
   "cell_type": "code",
   "execution_count": 66,
   "id": "bed2fddb-e622-421a-9043-1a51026ae957",
   "metadata": {},
   "outputs": [
    {
     "data": {
      "text/plain": [
       "NAME\n",
       "AMERICAN MEDICAL POLITICAL ACTION COMMITTEE    769\n",
       "Name: count, dtype: int64"
      ]
     },
     "metadata": {},
     "output_type": "display_data"
    }
   ],
   "source": [
    "nameCount = myDF['NAME'].value_counts().head(1)\n",
    "display(nameCount)"
   ]
  },
  {
   "cell_type": "markdown",
   "id": "ac81888b-ab40-4ec7-9678-f71b88d936e7",
   "metadata": {},
   "source": [
    "Here I counted the instances for each value in the NAME column and assigned it to the variable nameCount and displayed it. I used the head function to only display the top row with the highest count (AMERICAN MEDICAL POLITICAL ACTION COMMITTEE)."
   ]
  },
  {
   "cell_type": "markdown",
   "id": "88c9cdac-3e92-498f-83fa-e089bfc44ac8",
   "metadata": {},
   "source": [
    "## Question 5"
   ]
  },
  {
   "cell_type": "markdown",
   "id": "6d64e1f0-6ae5-42a7-9c6c-db54e3ecc56d",
   "metadata": {},
   "source": [
    "The top 5 city-and-state locations where donations were made in the 1980 federal election campaign data.\n",
    "\n",
    "The number of city-and-state locations in the 1980 federal election campaign data that are both empty."
   ]
  },
  {
   "cell_type": "code",
   "execution_count": 41,
   "id": "d370d7c9-06db-42b9-b75f-240481a5c491",
   "metadata": {},
   "outputs": [
    {
     "data": {
      "text/plain": [
       "CITY         STATE\n",
       "NEW YORK     NY       13860\n",
       "NaN          NaN      11582\n",
       "HOUSTON      TX       10146\n",
       "DALLAS       TX        6437\n",
       "WASHINGTON   DC        5890\n",
       "LOS ANGELES  CA        5866\n",
       "Name: count, dtype: int64"
      ]
     },
     "execution_count": 41,
     "metadata": {},
     "output_type": "execute_result"
    }
   ],
   "source": [
    "pd.concat([myDF['CITY'], myDF['STATE']],axis=1).value_counts(dropna = False).head(6)"
   ]
  },
  {
   "cell_type": "markdown",
   "id": "fe8f0c0f-ccfd-43a4-ac3e-ab397bd50f82",
   "metadata": {},
   "source": [
    "Above I concatenated city and state pairs in the data and displayed the different values for the pairs using .value_counts(). I also didn't drop any NA values and displayed the top 6 rows with the head() funciton. This shows the top 5 city-state locations where donations were made as well as the count of city-state locations where both are NA (11582)."
   ]
  },
  {
   "cell_type": "markdown",
   "id": "f76442d6-d02e-4f26-b9d6-c3183e1d6929",
   "metadata": {},
   "source": [
    "## Pledge\n",
    "\n",
    "By submitting this work I hereby pledge that this is my own, personal work. I've acknowledged in the designated place at the top of this file all sources that I used to complete said work, including but not limited to: online resources, books, and electronic communications. I've noted all collaboration with fellow students and/or TA's. I did not copy or plagiarize another's work.\n",
    "\n",
    "> As a Boilermaker pursuing academic excellence, I pledge to be honest and true in all that I do. Accountable together – We are Purdue."
   ]
  }
 ],
 "metadata": {
  "kernelspec": {
   "display_name": "seminar",
   "language": "python",
   "name": "python3"
  },
  "language_info": {
   "codemirror_mode": {
    "name": "ipython",
    "version": 3
   },
   "file_extension": ".py",
   "mimetype": "text/x-python",
   "name": "python",
   "nbconvert_exporter": "python",
   "pygments_lexer": "ipython3",
   "version": "3.11.5"
  }
 },
 "nbformat": 4,
 "nbformat_minor": 5
}
